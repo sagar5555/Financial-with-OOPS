{
 "cells": [
  {
   "cell_type": "code",
   "execution_count": 47,
   "id": "4614eaf1-fe2d-40e0-a61c-cfada8219a5e",
   "metadata": {},
   "outputs": [],
   "source": [
    "import numpy as np\n",
    "import pandas as pd\n",
    "import scipy.stats as stats\n",
    "import statsmodels.api as sm\n",
    "import csv\n",
    "from datetime import datetime\n",
    "import ast"
   ]
  },
  {
   "cell_type": "code",
   "execution_count": 87,
   "id": "066184f8-41cd-482c-b829-04c9b8101d99",
   "metadata": {},
   "outputs": [],
   "source": [
    "class csv_trans():\n",
    "    def __init__(self,csv_file):\n",
    "        self.csv_file=csv_file\n",
    "\n",
    "    def initialize_csv(self):\n",
    "        try:\n",
    "            print(self.path)\n",
    "            self.tnsct=pd.read_csv(self.path+self.csv_file)\n",
    "        except FileNotFoundError:\n",
    "            self.tnsct=pd.DataFrame([],columns=['date','amount','category','description'])\n",
    "            self.tnsct.to_csv(self.path+self.csv_file)\n",
    "            \n",
    "    def main(self,path,choice):\n",
    "        choice=int(input('enter the choice'))\n",
    "        self.path=path\n",
    "        print(self.path)\n",
    "        self.initialize_csv()\n",
    "        if choice==1:\n",
    "            self.add_tran()\n",
    "        elif choice==2:\n",
    "            self.trans_xc()\n",
    "        elif choice==3:\n",
    "            self.plot_inEx()\n",
    "        else:\n",
    "            print('Exit')\n",
    "\n",
    "    def add_tran(self):\n",
    "        try:\n",
    "            self.tnsct=pd.read_csv(path+self.csv_file)\n",
    "            self.date=input('prompt')\n",
    "            self.amount=input('prompt')\n",
    "            self.category=input('prompt')\n",
    "            self.description=input('prompt')\n",
    "            if category.isin('I','E'):\n",
    "                self.tnsct['date']=date\n",
    "                self.tnsct['amount']=amount\n",
    "                self.tnsct['category']=category\n",
    "                self.tnsct['description']=description\n",
    "                self.date_xc(self)\n",
    "            else:\n",
    "                print('Category is not correct')\n",
    "\n",
    "        except Exception as e:\n",
    "            print(e)\n",
    "            \n",
    "    def date_xc(self):\n",
    "        self.tnsct['date']=self.tnsct['date'].apply(lambda x: datetime.datetime.strptime(x, '%m-%d-%Y'))\n",
    "\n",
    "    def trans_xc(self):\n",
    "        self.date_xc(self)\n",
    "        start_date=input('enter start_date')\n",
    "        end_date=input('enter end_date')\n",
    "        self.tnsct_filter=self.tnsct.loc[(self.tnsct['date']<=start_date) & (self.tnsct['date']>=end_date)]\n",
    "        try:\n",
    "            self.tnsct_filter_Income=self.tnsct_filter[self.tnsct_filter['category']=='I']['amount'].sum()\n",
    "            self.tnsct_filter_Expense=self.tnsct_filter[self.tnsct_filter['category']=='E']['amount'].sum()\n",
    "            print('Transactions from %s to %s' % (start_date,end_date))\n",
    "            print('Income :', '%.3f' % self.tnsct_filter_Income)\n",
    "            print('Expense :', '%.3f' % self.tnsct_filter_Expense)\n",
    "            return self.tnsct_filter\n",
    "        except: \n",
    "            print('No transactions specified in the give date range')\n",
    "\n",
    "    def plot_inEx(self):\n",
    "        import seaborn as sns\n",
    "        import matplotlib.pyplot as plt\n",
    "        self.tnsct_filter_Income=self.tnsct_filter[self.tnsct_filter['category']=='I'].sample(455,replace=False)['amount']\n",
    "        self.tnsct_filter_expense=self.tnsct_filter[self.tnsct_filter['category']=='D'].sample(5566,replace=False)['amount']\n",
    "        sns.lineplot(x=self.tnsct_filter_Income,y=self.tnsct_filter_expense)\n",
    "        plt.xlabel('Income')\n",
    "        plt.ylabel('Expense')\n",
    "        plt.title('Income vs Expense')\n",
    "        plt.show()\n",
    "        \n",
    "  \n",
    " \n",
    "    \n",
    "    "
   ]
  },
  {
   "cell_type": "code",
   "execution_count": 88,
   "id": "f1418b1c-cb4e-490a-8ff5-90756ba19acb",
   "metadata": {},
   "outputs": [],
   "source": [
    "obj=csv_trans('trans_app_data.csv')"
   ]
  },
  {
   "cell_type": "code",
   "execution_count": 89,
   "id": "257489d4-9334-4670-afbf-db834ca03829",
   "metadata": {},
   "outputs": [
    {
     "name": "stdin",
     "output_type": "stream",
     "text": [
      "enter the choice 1\n"
     ]
    },
    {
     "name": "stdout",
     "output_type": "stream",
     "text": [
      "C:\\Users\\IK\\Desktop\n",
      "C:\\Users\\IK\\Desktop\n",
      "name 'path' is not defined\n",
      "Exit\n"
     ]
    }
   ],
   "source": [
    "obj.main(r'C:\\Users\\IK\\Desktop',1)"
   ]
  },
  {
   "cell_type": "markdown",
   "id": "d407e71c-47af-44f2-85eb-1bfb2b3c3e42",
   "metadata": {},
   "source": []
  },
  {
   "cell_type": "code",
   "execution_count": 92,
   "id": "e40cfce8-f90b-4995-910f-2ecae3380d26",
   "metadata": {},
   "outputs": [
    {
     "data": {
      "text/plain": [
       "'C:\\\\Users\\\\IK\\\\Desktoptrans_app_data.csv'"
      ]
     },
     "execution_count": 92,
     "metadata": {},
     "output_type": "execute_result"
    }
   ],
   "source": [
    "r'C:\\Users\\IK\\Desktop'+'trans_app_data.csv'"
   ]
  },
  {
   "cell_type": "code",
   "execution_count": null,
   "id": "c1ef1bea-99db-4823-bacb-2a2db34ba832",
   "metadata": {},
   "outputs": [],
   "source": []
  }
 ],
 "metadata": {
  "kernelspec": {
   "display_name": "Python 3 (ipykernel)",
   "language": "python",
   "name": "python3"
  },
  "language_info": {
   "codemirror_mode": {
    "name": "ipython",
    "version": 3
   },
   "file_extension": ".py",
   "mimetype": "text/x-python",
   "name": "python",
   "nbconvert_exporter": "python",
   "pygments_lexer": "ipython3",
   "version": "3.11.7"
  }
 },
 "nbformat": 4,
 "nbformat_minor": 5
}
